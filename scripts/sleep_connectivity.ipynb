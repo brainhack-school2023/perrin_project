{
 "cells": [
  {
   "cell_type": "code",
   "execution_count": 4,
   "id": "6f1bc87a",
   "metadata": {},
   "outputs": [],
   "source": [
    "import os\n",
    "import json\n",
    "import pandas as pd\n",
    "import nibabel as nib\n",
    "from nilearn import plotting, image"
   ]
  },
  {
   "cell_type": "code",
   "execution_count": 29,
   "id": "2d14df2f",
   "metadata": {},
   "outputs": [],
   "source": [
    "data_dir = \"../data/preprocess\"\n",
    "original_ds_dir = os.path.join(data_dir, \"input\")\n",
    "preprocessed_ds_dir = os.path.join(data_dir, \"output\")\n",
    "\n",
    "sub_ids_list = [9001]\n",
    "ses_ids_list = [1, 2]\n",
    "\n",
    "data = {\"func\":[],\n",
    "       \"confounds\":[],\n",
    "       \"phenotypic\":\"\"}\n",
    "\n",
    "for sub_id in sub_ids_list:\n",
    "    for ses_id in ses_ids_list:\n",
    "        func_path = os.path.join(preprocessed_ds_dir, f\"sub-{sub_id}/ses-{ses_id}/func/sub-{sub_id}_ses-{ses_id}_task-rest_\")\n",
    "        data[\"func\"].append(func_path + \"boldref.nii.gz\")\n",
    "        data[\"confounds\"].append(func_path + \"desc-confounds_timeseries.tsv\")\n",
    "\n",
    "# Opening JSON file\n",
    "with open(os.path.join(original_ds_dir, \"dataset_description.json\")) as file:\n",
    "    data[\"description\"] = json.load(file)"
   ]
  },
  {
   "cell_type": "code",
   "execution_count": 30,
   "id": "81fb6e3d",
   "metadata": {},
   "outputs": [
    {
     "name": "stdout",
     "output_type": "stream",
     "text": [
      "Name:\n",
      "The Stockholm Sleepy Brain Study: Effects of Sleep Deprivation on Cognitive and Emotional Processing in Young and Old \n",
      "\n",
      "BIDSVersion:\n",
      "1.0.2 \n",
      "\n",
      "License:\n",
      "CC0 \n",
      "\n",
      "Authors:\n",
      "['Gustav Nilsonne', 'Sandra Tamm', 'Paolo d’Onofrio', 'Hanna Å Thuné', 'Johanna Schwarz', 'Catharina Lavebratt', 'Jia Jia Liu', 'Kristoffer NT Månsson', 'Tina Sundelin', 'John Axelsson', 'Peter Fransson', 'Göran Kecklund', 'Håkan Fischer', 'Mats Lekander', 'Torbjörn Åkerstedt'] \n",
      "\n",
      "Acknowledgements:\n",
      "We are grateful to Diana Cortes and Roberta Nagai for assistance with polysomnography recordings, to Birgitta Mannerstedt Fogelfors for assistance with screening, instructions to participants, and blood sampling, to Rouslan Sitnikov and Jonathan Berrebi for assistance with MRI sequences and auxiliary equipment, to Hannes Ingre for entering sleep diary data into a spreadsheet, and to William Triplett, data curator at openfmri.org, for assistance with data archiving. \n",
      "\n",
      "HowToAcknowledge:\n",
      "We encourage researchers to use the published dataset freely and ask that they cite the respective data sources as well as this paper. \n",
      "\n",
      "ReferencesAndLinks:\n",
      "['http://www.stressforskning.su.se/polopoly_fs/1.238736.1433421769!/menu/standard/file/Sandra%20SSC%202014.pdf', 'https://osf.io/bxfsb/'] \n",
      "\n",
      "UsageNotes:\n",
      "This multimodal dataset can be used to investigate effects of sleep deprivation as well as cross-sectional relationships between various participant characteristics and brain imaging parameters. Samples of serum and DNA are available for additional analyses. Thus, this dataset could be used for discovery or independent validation of associations found in other datasets. Possibly identifying features and variables have been censored in order to safeguard participants’ integrity. We encourage researchers to use the published dataset freely and ask that they cite the respective data sources as well as this paper. For any analyses involving censored data, our intention is to share data with colleagues by arrangement, limited in each particular case by regulations pertaining to data integrity as well as by the participants’ consent, and we encourage researchers to contact us. \n",
      "\n",
      "DatasetDOI:\n",
      "10.18112/openneuro.ds000201.v1.0.3 \n",
      "\n"
     ]
    }
   ],
   "source": [
    "# Read the dataset documentation\n",
    "for key in data[\"description\"]:\n",
    "    print(key+\":\")\n",
    "    print(data[\"description\"][key], \"\\n\")"
   ]
  },
  {
   "cell_type": "code",
   "execution_count": 33,
   "id": "f13cfa07",
   "metadata": {},
   "outputs": [
    {
     "name": "stdout",
     "output_type": "stream",
     "text": [
      "['../data/preprocess/output/sub-9001/ses-1/func/sub-9001_ses-1_task-rest_boldref.nii.gz', '../data/preprocess/output/sub-9001/ses-2/func/sub-9001_ses-2_task-rest_boldref.nii.gz']\n"
     ]
    }
   ],
   "source": [
    "print(data['func'])"
   ]
  },
  {
   "cell_type": "code",
   "execution_count": 31,
   "id": "9988b2b6",
   "metadata": {},
   "outputs": [
    {
     "name": "stdout",
     "output_type": "stream",
     "text": [
      "['../data/preprocess/output/sub-9001/ses-1/func/sub-9001_ses-1_task-rest_desc-confounds_timeseries.tsv', '../data/preprocess/output/sub-9001/ses-2/func/sub-9001_ses-2_task-rest_desc-confounds_timeseries.tsv']\n"
     ]
    }
   ],
   "source": [
    "print(data['confounds'])"
   ]
  },
  {
   "cell_type": "code",
   "execution_count": null,
   "id": "ebda4acc",
   "metadata": {},
   "outputs": [],
   "source": [
    "# Load the functional image\n",
    "img = nib.load(data['func'][0])"
   ]
  },
  {
   "cell_type": "code",
   "execution_count": null,
   "id": "fc544eeb",
   "metadata": {},
   "outputs": [],
   "source": [
    "# Take a look at the first time point\n",
    "plotting.view_img(image.index_img(img, 2))"
   ]
  },
  {
   "cell_type": "code",
   "execution_count": null,
   "id": "3b1b0ec1",
   "metadata": {},
   "outputs": [],
   "source": [
    "# Checkout the confounds of the data\n",
    "confounds = pd.read_csv(data['confounds'][0], sep='\\t')"
   ]
  }
 ],
 "metadata": {
  "kernelspec": {
   "display_name": "Python 3 (ipykernel)",
   "language": "python",
   "name": "python3"
  },
  "language_info": {
   "codemirror_mode": {
    "name": "ipython",
    "version": 3
   },
   "file_extension": ".py",
   "mimetype": "text/x-python",
   "name": "python",
   "nbconvert_exporter": "python",
   "pygments_lexer": "ipython3",
   "version": "3.10.10"
  }
 },
 "nbformat": 4,
 "nbformat_minor": 5
}
